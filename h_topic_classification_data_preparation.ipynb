{
 "cells": [
  {
   "cell_type": "code",
   "execution_count": 2,
   "metadata": {},
   "outputs": [
    {
     "name": "stdout",
     "output_type": "stream",
     "text": [
      "Processing books data...\n",
      "Total books: 212404 rows\n",
      " Books with descriptions: 143962 samples\n",
      "Using 5000 book samples for training\n",
      "Existing data: 52410 samples\n",
      "\n",
      "Success! Final training data created!\n",
      "Total samples: 57402\n",
      "Label distribution:\n",
      "label\n",
      "movie     50000\n",
      "book       4992\n",
      "sports     2410\n",
      "Name: count, dtype: int64\n",
      "\n",
      "Examples from each category:\n",
      "\n",
      " SPORTS: german growth goes into reverse  germanys economy shrank  in the last three months of  upsetting hopes of a sustained recovery  the figures confounded...\n",
      "--------------------------------------------------------------------------------\n",
      "\n",
      " MOVIE: Christina Raines plays a lovely model in New York who seeks out a new apartment and begins to meet strange neighbors and reveal a secret about the bui...\n",
      "--------------------------------------------------------------------------------\n",
      "\n",
      " BOOK: Each decade new readers discover the characters and curious activities aboard the U.S.S. \"Caine in this classic tale of pathos, humor, and scope.\n",
      "--------------------------------------------------------------------------------\n"
     ]
    }
   ],
   "source": [
    "import pandas as pd\n",
    "\n",
    "print(\"Processing books data...\")\n",
    "\n",
    "# load books data\n",
    "books_data = pd.read_csv('/Users/hanakaraibrahimovic/Documents/VU/Text Mining for AI/books_data.csv')\n",
    "print(f\"Total books: {len(books_data)} rows\")\n",
    "\n",
    "# extract books with descriptions \n",
    "book_descriptions = books_data['description'].dropna()\n",
    "print(f\" Books with descriptions: {len(book_descriptions)} samples\")\n",
    "\n",
    "# sample taken since there is so many - 5000 to balance with other data\n",
    "book_sample = book_descriptions.sample(n=min(5000, len(book_descriptions)), random_state=42)\n",
    "book_labels = ['book'] * len(book_sample)\n",
    "print(f\"Using {len(book_sample)} book samples for training\")\n",
    "\n",
    "# load existing combined data\n",
    "existing_data = pd.read_csv('/Users/hanakaraibrahimovic/Documents/VU/Text Mining for AI/combined_training_data.csv')\n",
    "print(f\"Existing data: {len(existing_data)} samples\")\n",
    "\n",
    "# combine everything\n",
    "all_texts = list(existing_data['text']) + list(book_sample)\n",
    "all_labels = list(existing_data['label']) + book_labels\n",
    "\n",
    "# final training dataframe\n",
    "final_training_data = pd.DataFrame({\n",
    "    'text': all_texts,\n",
    "    'label': all_labels\n",
    "})\n",
    "\n",
    "# clean and shuffle\n",
    "final_training_data['text'] = final_training_data['text'].astype(str).str.replace('\\n', ' ').str.strip()\n",
    "final_training_data = final_training_data[final_training_data['text'].str.len() > 10]\n",
    "final_training_data = final_training_data.sample(frac=1, random_state=42).reset_index(drop=True)\n",
    "\n",
    "# save the complete dataset\n",
    "final_training_data.to_csv('/Users/hanakaraibrahimovic/Documents/VU/Text Mining for AI/final_training_data.csv', index=False)\n",
    "\n",
    "print(f\"\\nSuccess! Final training data created!\")\n",
    "print(f\"Total samples: {len(final_training_data)}\")\n",
    "print(f\"Label distribution:\")\n",
    "print(final_training_data['label'].value_counts())\n",
    "\n",
    "# show examples from each category\n",
    "print(f\"\\nExamples from each category:\")\n",
    "for label in ['sports', 'movie', 'book']:\n",
    "    example = final_training_data[final_training_data['label'] == label].iloc[0]\n",
    "    text_preview = example['text'][:150] + \"...\" if len(example['text']) > 150 else example['text']\n",
    "    print(f\"\\n {label.upper()}: {text_preview}\")\n",
    "    print(\"-\" * 80)"
   ]
  }
 ],
 "metadata": {
  "kernelspec": {
   "display_name": "Python 3",
   "language": "python",
   "name": "python3"
  },
  "language_info": {
   "codemirror_mode": {
    "name": "ipython",
    "version": 3
   },
   "file_extension": ".py",
   "mimetype": "text/x-python",
   "name": "python",
   "nbconvert_exporter": "python",
   "pygments_lexer": "ipython3",
   "version": "3.10.12"
  },
  "orig_nbformat": 4
 },
 "nbformat": 4,
 "nbformat_minor": 2
}
